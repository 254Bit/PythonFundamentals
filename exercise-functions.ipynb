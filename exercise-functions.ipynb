{
 "cells": [
  {
   "cell_type": "code",
   "execution_count": 1,
   "id": "9a4bd3ff",
   "metadata": {
    "execution": {
     "iopub.execute_input": "2024-03-13T00:03:30.769315Z",
     "iopub.status.busy": "2024-03-13T00:03:30.768982Z",
     "iopub.status.idle": "2024-03-13T00:03:31.531656Z",
     "shell.execute_reply": "2024-03-13T00:03:31.530762Z"
    },
    "papermill": {
     "duration": 0.770763,
     "end_time": "2024-03-13T00:03:31.533490",
     "exception": false,
     "start_time": "2024-03-13T00:03:30.762727",
     "status": "completed"
    },
    "tags": []
   },
   "outputs": [
    {
     "name": "stdout",
     "output_type": "stream",
     "text": [
      "Setup complete.\n"
     ]
    }
   ],
   "source": [
    "# Set up the exercise\n",
    "import math\n",
    "from learntools.core import binder\n",
    "binder.bind(globals())\n",
    "from learntools.intro_to_programming.ex2 import *\n",
    "print('Setup complete.')"
   ]
  },
  {
   "cell_type": "markdown",
   "id": "c093a8d1",
   "metadata": {
    "papermill": {
     "duration": 0.004457,
     "end_time": "2024-03-13T00:03:31.542969",
     "exception": false,
     "start_time": "2024-03-13T00:03:31.538512",
     "status": "completed"
    },
    "tags": []
   },
   "source": [
    "# Question 1\n",
    "\n",
    "In the [House Prices - Advanced Regression Techniques competition](https://www.kaggle.com/c/house-prices-advanced-regression-techniques/overview), you need to use information like the number of bedrooms and bathrooms to predict the price of a house.  Inspired by this competition, you'll write your own function to do this.\n",
    "\n",
    "In the next code cell, create a function `get_expected_cost()` that has two arguments:\n",
    "- `beds` - number of bedrooms \n",
    "- `baths` - number of bathrooms\n",
    "\n",
    "It should return the expected cost of a house with that number of bedrooms and bathrooms.  Assume that:\n",
    "- the expected cost for a house with 0 bedrooms and 0 bathrooms is `80000`.  \n",
    "- each bedroom adds `30000` to the expected cost\n",
    "- each bathroom adds `10000` to the expected cost.\n",
    "\n",
    "For instance, \n",
    "- a house with 1 bedroom and 1 bathroom has an expected cost of `120000`, and \n",
    "- a house with 2 bedrooms and 1 bathroom has an expected cost of `150000`."
   ]
  },
  {
   "cell_type": "code",
   "execution_count": 2,
   "id": "25af19fd",
   "metadata": {
    "execution": {
     "iopub.execute_input": "2024-03-13T00:03:31.553468Z",
     "iopub.status.busy": "2024-03-13T00:03:31.553044Z",
     "iopub.status.idle": "2024-03-13T00:03:31.562226Z",
     "shell.execute_reply": "2024-03-13T00:03:31.561205Z"
    },
    "papermill": {
     "duration": 0.01699,
     "end_time": "2024-03-13T00:03:31.564524",
     "exception": false,
     "start_time": "2024-03-13T00:03:31.547534",
     "status": "completed"
    },
    "tags": []
   },
   "outputs": [
    {
     "data": {
      "application/javascript": "parent.postMessage({\"jupyterEvent\": \"custom.exercise_interaction\", \"data\": {\"outcomeType\": 2, \"failureMessage\": \"Expected return value of `80000` given `beds=0`, `baths=0`, but got `<learntools.core.constants.PlaceholderValue object at 0x7d4cf24f98a0>` instead.\", \"interactionType\": 1, \"questionType\": 2, \"questionId\": \"1_GetExpectedCost\", \"learnToolsVersion\": \"0.3.4\", \"valueTowardsCompletion\": 0.0, \"exceptionClass\": \"\", \"trace\": \"\"}}, \"*\")",
      "text/plain": [
       "<IPython.core.display.Javascript object>"
      ]
     },
     "metadata": {},
     "output_type": "display_data"
    },
    {
     "data": {
      "text/markdown": [
       "<span style=\"color:#cc3333\">Incorrect:</span> Expected return value of `80000` given `beds=0`, `baths=0`, but got `<learntools.core.constants.PlaceholderValue object at 0x7d4cf24f98a0>` instead."
      ],
      "text/plain": [
       "Incorrect: Expected return value of `80000` given `beds=0`, `baths=0`, but got `<learntools.core.constants.PlaceholderValue object at 0x7d4cf24f98a0>` instead."
      ]
     },
     "metadata": {},
     "output_type": "display_data"
    }
   ],
   "source": [
    "# TODO: Complete the function\n",
    "def get_expected_cost(beds, baths):\n",
    "    value = ____\n",
    "    return value\n",
    "\n",
    "# Check your answer \n",
    "q1.check()"
   ]
  },
  {
   "cell_type": "code",
   "execution_count": 3,
   "id": "e80ab6be",
   "metadata": {
    "execution": {
     "iopub.execute_input": "2024-03-13T00:03:31.576492Z",
     "iopub.status.busy": "2024-03-13T00:03:31.576164Z",
     "iopub.status.idle": "2024-03-13T00:03:31.579619Z",
     "shell.execute_reply": "2024-03-13T00:03:31.578802Z"
    },
    "papermill": {
     "duration": 0.011442,
     "end_time": "2024-03-13T00:03:31.581357",
     "exception": false,
     "start_time": "2024-03-13T00:03:31.569915",
     "status": "completed"
    },
    "tags": []
   },
   "outputs": [],
   "source": [
    "# Uncomment to see a hint\n",
    "#q1.hint()\n",
    "\n",
    "# Uncomment to view the solution\n",
    "#q1.solution()"
   ]
  },
  {
   "cell_type": "markdown",
   "id": "101f19d4",
   "metadata": {
    "papermill": {
     "duration": 0.00483,
     "end_time": "2024-03-13T00:03:31.591400",
     "exception": false,
     "start_time": "2024-03-13T00:03:31.586570",
     "status": "completed"
    },
    "tags": []
   },
   "source": [
    "# Question 2\n",
    "\n",
    "You are thinking about buying a home and want to get an idea of how much you will spend, based on the number of bedrooms and bathrooms.  You are trying to decide between four different options:\n",
    "- Option 1: house with two bedrooms and three bathrooms\n",
    "- Option 2: house with three bedrooms and two bathrooms\n",
    "- Option 3: house with three bedrooms and three bathrooms\n",
    "- Option 4: house with three bedrooms and four bathrooms\n",
    "\n",
    "Use the `get_expected_cost()` function you defined in question 1 to set `option_1`, `option_2`, `option_3`, and `option_4` to the expected cost of each option."
   ]
  },
  {
   "cell_type": "code",
   "execution_count": 4,
   "id": "c7386a62",
   "metadata": {
    "execution": {
     "iopub.execute_input": "2024-03-13T00:03:31.602246Z",
     "iopub.status.busy": "2024-03-13T00:03:31.601952Z",
     "iopub.status.idle": "2024-03-13T00:03:31.609935Z",
     "shell.execute_reply": "2024-03-13T00:03:31.609171Z"
    },
    "papermill": {
     "duration": 0.015261,
     "end_time": "2024-03-13T00:03:31.611514",
     "exception": false,
     "start_time": "2024-03-13T00:03:31.596253",
     "status": "completed"
    },
    "tags": []
   },
   "outputs": [
    {
     "name": "stdout",
     "output_type": "stream",
     "text": [
      "<learntools.core.constants.PlaceholderValue object at 0x7d4cf24f98a0>\n",
      "<learntools.core.constants.PlaceholderValue object at 0x7d4cf24f98a0>\n",
      "<learntools.core.constants.PlaceholderValue object at 0x7d4cf24f98a0>\n",
      "<learntools.core.constants.PlaceholderValue object at 0x7d4cf24f98a0>\n"
     ]
    },
    {
     "data": {
      "application/javascript": "parent.postMessage({\"jupyterEvent\": \"custom.exercise_interaction\", \"data\": {\"outcomeType\": 4, \"interactionType\": 1, \"questionType\": 1, \"questionId\": \"2_RunGetExpectedCost\", \"learnToolsVersion\": \"0.3.4\", \"valueTowardsCompletion\": 0.0, \"failureMessage\": \"\", \"exceptionClass\": \"\", \"trace\": \"\"}}, \"*\")",
      "text/plain": [
       "<IPython.core.display.Javascript object>"
      ]
     },
     "metadata": {},
     "output_type": "display_data"
    },
    {
     "data": {
      "text/markdown": [
       "<span style=\"color:#ccaa33\">Check:</span> When you've updated the starter code, `check()` will tell you whether your code is correct. You need to update the code that creates variables `option_one`, `option_two`, `option_three`, `option_four`"
      ],
      "text/plain": [
       "Check: When you've updated the starter code, `check()` will tell you whether your code is correct. You need to update the code that creates variables `option_one`, `option_two`, `option_three`, `option_four`"
      ]
     },
     "metadata": {},
     "output_type": "display_data"
    }
   ],
   "source": [
    "# TODO: Use the get_expected_cost function to fill in each value\n",
    "option_one = ____\n",
    "option_two = ____\n",
    "option_three = ____\n",
    "option_four = ____\n",
    "\n",
    "print(option_one)\n",
    "print(option_two)\n",
    "print(option_three)\n",
    "print(option_four)\n",
    "\n",
    "# Check your answer\n",
    "q2.check()"
   ]
  },
  {
   "cell_type": "code",
   "execution_count": 5,
   "id": "da754655",
   "metadata": {
    "execution": {
     "iopub.execute_input": "2024-03-13T00:03:31.623113Z",
     "iopub.status.busy": "2024-03-13T00:03:31.622847Z",
     "iopub.status.idle": "2024-03-13T00:03:31.626403Z",
     "shell.execute_reply": "2024-03-13T00:03:31.625649Z"
    },
    "papermill": {
     "duration": 0.011176,
     "end_time": "2024-03-13T00:03:31.628000",
     "exception": false,
     "start_time": "2024-03-13T00:03:31.616824",
     "status": "completed"
    },
    "tags": []
   },
   "outputs": [],
   "source": [
    "# Uncomment to see a hint\n",
    "#q2.hint()\n",
    "\n",
    "# Uncomment to view the solution\n",
    "#q2.solution()"
   ]
  },
  {
   "cell_type": "markdown",
   "id": "8e773035",
   "metadata": {
    "papermill": {
     "duration": 0.005052,
     "end_time": "2024-03-13T00:03:31.638269",
     "exception": false,
     "start_time": "2024-03-13T00:03:31.633217",
     "status": "completed"
    },
    "tags": []
   },
   "source": [
    "# Question 3\n",
    "\n",
    "You're a home decorator, and you'd like to use Python to streamline some of your work.  Specifically, you're creating a tool that you intend to use to calculate the cost of painting a room.\n",
    "\n",
    "As a first step, define a function `get_cost()` that takes as input:\n",
    "- `sqft_walls` = total square feet of walls to be painted\n",
    "- `sqft_ceiling` = square feet of ceiling to be painted\n",
    "- `sqft_per_gallon` = number of square feet that you can cover with one gallon of paint\n",
    "- `cost_per_gallon` = cost (in dollars) of one gallon of paint\n",
    "\n",
    "It should return the cost (in dollars) of putting one coat of paint on all walls and the ceiling.  Assume you can buy the exact amount of paint that you need, so you can buy partial gallons (e.g., if you need 7.523 gallons, you can buy that exact amount, instead of needing to buy 8 gallons and waste some paint).  Do not round your answer."
   ]
  },
  {
   "cell_type": "code",
   "execution_count": 6,
   "id": "9759e422",
   "metadata": {
    "execution": {
     "iopub.execute_input": "2024-03-13T00:03:31.649777Z",
     "iopub.status.busy": "2024-03-13T00:03:31.649465Z",
     "iopub.status.idle": "2024-03-13T00:03:31.657655Z",
     "shell.execute_reply": "2024-03-13T00:03:31.656610Z"
    },
    "papermill": {
     "duration": 0.016601,
     "end_time": "2024-03-13T00:03:31.659954",
     "exception": false,
     "start_time": "2024-03-13T00:03:31.643353",
     "status": "completed"
    },
    "tags": []
   },
   "outputs": [
    {
     "data": {
      "application/javascript": "parent.postMessage({\"jupyterEvent\": \"custom.exercise_interaction\", \"data\": {\"outcomeType\": 2, \"failureMessage\": \"Expected return value of `21.599999999999998` given `sqft_walls=432`, `sqft_ceiling=144`, `sqft_per_gallon=400`, `cost_per_gallon=15`, but got `<learntools.core.constants.PlaceholderValue object at 0x7d4cf24f98a0>` instead.\", \"interactionType\": 1, \"questionType\": 2, \"questionId\": \"3_GetCostPaint\", \"learnToolsVersion\": \"0.3.4\", \"valueTowardsCompletion\": 0.0, \"exceptionClass\": \"\", \"trace\": \"\"}}, \"*\")",
      "text/plain": [
       "<IPython.core.display.Javascript object>"
      ]
     },
     "metadata": {},
     "output_type": "display_data"
    },
    {
     "data": {
      "text/markdown": [
       "<span style=\"color:#cc3333\">Incorrect:</span> Expected return value of `21.599999999999998` given `sqft_walls=432`, `sqft_ceiling=144`, `sqft_per_gallon=400`, `cost_per_gallon=15`, but got `<learntools.core.constants.PlaceholderValue object at 0x7d4cf24f98a0>` instead."
      ],
      "text/plain": [
       "Incorrect: Expected return value of `21.599999999999998` given `sqft_walls=432`, `sqft_ceiling=144`, `sqft_per_gallon=400`, `cost_per_gallon=15`, but got `<learntools.core.constants.PlaceholderValue object at 0x7d4cf24f98a0>` instead."
      ]
     },
     "metadata": {},
     "output_type": "display_data"
    }
   ],
   "source": [
    "# TODO: Finish defining the function\n",
    "def get_cost(sqft_walls, sqft_ceiling, sqft_per_gallon, cost_per_gallon):\n",
    "    cost = ____\n",
    "    return cost\n",
    "\n",
    "# Check your answer\n",
    "q3.check()"
   ]
  },
  {
   "cell_type": "code",
   "execution_count": 7,
   "id": "640aff76",
   "metadata": {
    "execution": {
     "iopub.execute_input": "2024-03-13T00:03:31.673949Z",
     "iopub.status.busy": "2024-03-13T00:03:31.673645Z",
     "iopub.status.idle": "2024-03-13T00:03:31.677712Z",
     "shell.execute_reply": "2024-03-13T00:03:31.676644Z"
    },
    "papermill": {
     "duration": 0.013807,
     "end_time": "2024-03-13T00:03:31.679777",
     "exception": false,
     "start_time": "2024-03-13T00:03:31.665970",
     "status": "completed"
    },
    "tags": []
   },
   "outputs": [],
   "source": [
    "# Uncomment to see a hint\n",
    "#q3.hint()\n",
    "\n",
    "# Uncomment to view the solution\n",
    "#q3.solution()"
   ]
  },
  {
   "cell_type": "markdown",
   "id": "a16ac6f7",
   "metadata": {
    "papermill": {
     "duration": 0.005516,
     "end_time": "2024-03-13T00:03:31.691261",
     "exception": false,
     "start_time": "2024-03-13T00:03:31.685745",
     "status": "completed"
    },
    "tags": []
   },
   "source": [
    "# Question 4\n",
    "\n",
    "Use the `get_cost()` function you defined in Question 3 to calculate the cost of applying one coat of paint to a room with:\n",
    "- 432 square feet of walls, and\n",
    "- 144 square feet of ceiling.\n",
    "\n",
    "Assume that one gallon of paint covers 400 square feet and costs $15.  As in Question 3, assume you can buy partial gallons of paint.  Do not round your answer."
   ]
  },
  {
   "cell_type": "code",
   "execution_count": 8,
   "id": "a38403d1",
   "metadata": {
    "execution": {
     "iopub.execute_input": "2024-03-13T00:03:31.704324Z",
     "iopub.status.busy": "2024-03-13T00:03:31.703968Z",
     "iopub.status.idle": "2024-03-13T00:03:31.710960Z",
     "shell.execute_reply": "2024-03-13T00:03:31.710191Z"
    },
    "papermill": {
     "duration": 0.015433,
     "end_time": "2024-03-13T00:03:31.712489",
     "exception": false,
     "start_time": "2024-03-13T00:03:31.697056",
     "status": "completed"
    },
    "tags": []
   },
   "outputs": [
    {
     "data": {
      "application/javascript": "parent.postMessage({\"jupyterEvent\": \"custom.exercise_interaction\", \"data\": {\"outcomeType\": 4, \"interactionType\": 1, \"questionType\": 1, \"questionId\": \"4_GetCostPaintExample\", \"learnToolsVersion\": \"0.3.4\", \"valueTowardsCompletion\": 0.0, \"failureMessage\": \"\", \"exceptionClass\": \"\", \"trace\": \"\"}}, \"*\")",
      "text/plain": [
       "<IPython.core.display.Javascript object>"
      ]
     },
     "metadata": {},
     "output_type": "display_data"
    },
    {
     "data": {
      "text/markdown": [
       "<span style=\"color:#ccaa33\">Check:</span> When you've updated the starter code, `check()` will tell you whether your code is correct. You need to update the code that creates variable `project_cost`"
      ],
      "text/plain": [
       "Check: When you've updated the starter code, `check()` will tell you whether your code is correct. You need to update the code that creates variable `project_cost`"
      ]
     },
     "metadata": {},
     "output_type": "display_data"
    }
   ],
   "source": [
    "# TODO: Set the project_cost variable to the cost of the project\n",
    "project_cost = ____\n",
    "\n",
    "# Check your answer\n",
    "q4.check()"
   ]
  },
  {
   "cell_type": "code",
   "execution_count": 9,
   "id": "5e93206b",
   "metadata": {
    "execution": {
     "iopub.execute_input": "2024-03-13T00:03:31.725028Z",
     "iopub.status.busy": "2024-03-13T00:03:31.724636Z",
     "iopub.status.idle": "2024-03-13T00:03:31.727990Z",
     "shell.execute_reply": "2024-03-13T00:03:31.727278Z"
    },
    "papermill": {
     "duration": 0.011273,
     "end_time": "2024-03-13T00:03:31.729593",
     "exception": false,
     "start_time": "2024-03-13T00:03:31.718320",
     "status": "completed"
    },
    "tags": []
   },
   "outputs": [],
   "source": [
    "# Uncomment to see a hint\n",
    "#q4.hint()\n",
    "\n",
    "# Uncomment to view the solution\n",
    "#q4.solution()"
   ]
  },
  {
   "cell_type": "markdown",
   "id": "b8934504",
   "metadata": {
    "papermill": {
     "duration": 0.005446,
     "end_time": "2024-03-13T00:03:31.740621",
     "exception": false,
     "start_time": "2024-03-13T00:03:31.735175",
     "status": "completed"
    },
    "tags": []
   },
   "source": [
    "# 🌶️ Question 5\n",
    "\n",
    "Now say you can no longer buy fractions of a gallon.  (For instance, if you need 4.3 gallons to do a project, then you have to buy 5 gallons of paint.)\n",
    "\n",
    "With this new scenario, you will create a new function `get_actual_cost` that uses the same inputs and calculates the cost of your project.\n",
    "\n",
    "One function that you'll need to use to do this is `math.ceil()`.  We demonstrate usage of this function in the code cell below.  It takes as a number as input and rounds the number up to the nearest integer.  \n",
    "\n",
    "Run the next code cell to test this function for yourself.  Feel free to change the value of `test_value` and make sure `math.ceil()` returns the number you expect."
   ]
  },
  {
   "cell_type": "code",
   "execution_count": 10,
   "id": "7ee99e72",
   "metadata": {
    "execution": {
     "iopub.execute_input": "2024-03-13T00:03:31.752975Z",
     "iopub.status.busy": "2024-03-13T00:03:31.752694Z",
     "iopub.status.idle": "2024-03-13T00:03:31.756938Z",
     "shell.execute_reply": "2024-03-13T00:03:31.756157Z"
    },
    "papermill": {
     "duration": 0.01242,
     "end_time": "2024-03-13T00:03:31.758538",
     "exception": false,
     "start_time": "2024-03-13T00:03:31.746118",
     "status": "completed"
    },
    "tags": []
   },
   "outputs": [
    {
     "name": "stdout",
     "output_type": "stream",
     "text": [
      "3\n"
     ]
    }
   ],
   "source": [
    "test_value = 2.17\n",
    "\n",
    "rounded_value = math.ceil(test_value)\n",
    "print(rounded_value)"
   ]
  },
  {
   "cell_type": "markdown",
   "id": "1346e3ac",
   "metadata": {
    "papermill": {
     "duration": 0.005714,
     "end_time": "2024-03-13T00:03:31.769921",
     "exception": false,
     "start_time": "2024-03-13T00:03:31.764207",
     "status": "completed"
    },
    "tags": []
   },
   "source": [
    "Use the next code cell to define the function `get_actual_cost()`.  You'll need to use the `math.ceil()` function to do this.\n",
    "\n",
    "When answering this question, note that it's completely valid to define a function that makes use of another function.  For instance, we can define a function `round_up_and_divide_by_three` that makes use of the `math.ceil` function:\n",
    "```\n",
    "def round_up_and_divide_by_three(num):\n",
    "    new_value = math.ceil(num)\n",
    "    final_value = new_value / 3\n",
    "    return final_value\n",
    "```"
   ]
  },
  {
   "cell_type": "code",
   "execution_count": 11,
   "id": "554c7ac4",
   "metadata": {
    "execution": {
     "iopub.execute_input": "2024-03-13T00:03:31.782470Z",
     "iopub.status.busy": "2024-03-13T00:03:31.782152Z",
     "iopub.status.idle": "2024-03-13T00:03:31.788823Z",
     "shell.execute_reply": "2024-03-13T00:03:31.788052Z"
    },
    "papermill": {
     "duration": 0.014972,
     "end_time": "2024-03-13T00:03:31.790490",
     "exception": false,
     "start_time": "2024-03-13T00:03:31.775518",
     "status": "completed"
    },
    "tags": []
   },
   "outputs": [
    {
     "data": {
      "application/javascript": "parent.postMessage({\"jupyterEvent\": \"custom.exercise_interaction\", \"data\": {\"outcomeType\": 2, \"failureMessage\": \"Expected return value of `30` given `sqft_walls=432`, `sqft_ceiling=144`, `sqft_per_gallon=400`, `cost_per_gallon=15`, but got `<learntools.core.constants.PlaceholderValue object at 0x7d4cf24f98a0>` instead.\", \"interactionType\": 1, \"questionType\": 2, \"questionId\": \"5_NoMoreFractions\", \"learnToolsVersion\": \"0.3.4\", \"valueTowardsCompletion\": 0.0, \"exceptionClass\": \"\", \"trace\": \"\"}}, \"*\")",
      "text/plain": [
       "<IPython.core.display.Javascript object>"
      ]
     },
     "metadata": {},
     "output_type": "display_data"
    },
    {
     "data": {
      "text/markdown": [
       "<span style=\"color:#cc3333\">Incorrect:</span> Expected return value of `30` given `sqft_walls=432`, `sqft_ceiling=144`, `sqft_per_gallon=400`, `cost_per_gallon=15`, but got `<learntools.core.constants.PlaceholderValue object at 0x7d4cf24f98a0>` instead."
      ],
      "text/plain": [
       "Incorrect: Expected return value of `30` given `sqft_walls=432`, `sqft_ceiling=144`, `sqft_per_gallon=400`, `cost_per_gallon=15`, but got `<learntools.core.constants.PlaceholderValue object at 0x7d4cf24f98a0>` instead."
      ]
     },
     "metadata": {},
     "output_type": "display_data"
    }
   ],
   "source": [
    "def get_actual_cost(sqft_walls, sqft_ceiling, sqft_per_gallon, cost_per_gallon):\n",
    "    cost = ____\n",
    "    return cost\n",
    "\n",
    "# Check your answer\n",
    "q5.check()"
   ]
  },
  {
   "cell_type": "code",
   "execution_count": 12,
   "id": "d8ee3993",
   "metadata": {
    "execution": {
     "iopub.execute_input": "2024-03-13T00:03:31.804954Z",
     "iopub.status.busy": "2024-03-13T00:03:31.804725Z",
     "iopub.status.idle": "2024-03-13T00:03:31.807623Z",
     "shell.execute_reply": "2024-03-13T00:03:31.806930Z"
    },
    "papermill": {
     "duration": 0.011935,
     "end_time": "2024-03-13T00:03:31.809160",
     "exception": false,
     "start_time": "2024-03-13T00:03:31.797225",
     "status": "completed"
    },
    "tags": []
   },
   "outputs": [],
   "source": [
    "# Uncomment to see a hint\n",
    "#q5.hint()\n",
    "\n",
    "# Uncomment to view the solution\n",
    "#q5.solution()"
   ]
  },
  {
   "cell_type": "markdown",
   "id": "85118bee",
   "metadata": {
    "papermill": {
     "duration": 0.005709,
     "end_time": "2024-03-13T00:03:31.821170",
     "exception": false,
     "start_time": "2024-03-13T00:03:31.815461",
     "status": "completed"
    },
    "tags": []
   },
   "source": [
    "Once your function is verified as correct, run the next code cell to calculate the updated cost of your project."
   ]
  },
  {
   "cell_type": "code",
   "execution_count": 13,
   "id": "ad456dcd",
   "metadata": {
    "execution": {
     "iopub.execute_input": "2024-03-13T00:03:31.834336Z",
     "iopub.status.busy": "2024-03-13T00:03:31.833995Z",
     "iopub.status.idle": "2024-03-13T00:03:31.839030Z",
     "shell.execute_reply": "2024-03-13T00:03:31.838343Z"
    },
    "papermill": {
     "duration": 0.013543,
     "end_time": "2024-03-13T00:03:31.840545",
     "exception": false,
     "start_time": "2024-03-13T00:03:31.827002",
     "status": "completed"
    },
    "tags": []
   },
   "outputs": [
    {
     "data": {
      "text/markdown": [],
      "text/plain": [
       "<learntools.core.constants.PlaceholderValue at 0x7d4cf24f98a0>"
      ]
     },
     "execution_count": 13,
     "metadata": {},
     "output_type": "execute_result"
    }
   ],
   "source": [
    "get_actual_cost(432, 144, 400, 15) "
   ]
  },
  {
   "cell_type": "markdown",
   "id": "25d0532a",
   "metadata": {
    "papermill": {
     "duration": 0.00576,
     "end_time": "2024-03-13T00:03:31.852469",
     "exception": false,
     "start_time": "2024-03-13T00:03:31.846709",
     "status": "completed"
    },
    "tags": []
   },
   "source": [
    "Say you're working with a slightly larger room.  Run the next code cell to calculate the cost of the project."
   ]
  },
  {
   "cell_type": "code",
   "execution_count": 14,
   "id": "d3789487",
   "metadata": {
    "execution": {
     "iopub.execute_input": "2024-03-13T00:03:31.865666Z",
     "iopub.status.busy": "2024-03-13T00:03:31.865394Z",
     "iopub.status.idle": "2024-03-13T00:03:31.870007Z",
     "shell.execute_reply": "2024-03-13T00:03:31.869452Z"
    },
    "papermill": {
     "duration": 0.013001,
     "end_time": "2024-03-13T00:03:31.871443",
     "exception": false,
     "start_time": "2024-03-13T00:03:31.858442",
     "status": "completed"
    },
    "tags": []
   },
   "outputs": [
    {
     "data": {
      "text/markdown": [],
      "text/plain": [
       "<learntools.core.constants.PlaceholderValue at 0x7d4cf24f98a0>"
      ]
     },
     "execution_count": 14,
     "metadata": {},
     "output_type": "execute_result"
    }
   ],
   "source": [
    "get_actual_cost(594, 288, 400, 15) "
   ]
  }
 ],
 "metadata": {
  "kaggle": {
   "accelerator": "none",
   "dataSources": [],
   "isGpuEnabled": false,
   "isInternetEnabled": false,
   "language": "python",
   "sourceType": "notebook"
  },
  "kernelspec": {
   "display_name": "Python 3",
   "language": "python",
   "name": "python3"
  },
  "language_info": {
   "codemirror_mode": {
    "name": "ipython",
    "version": 3
   },
   "file_extension": ".py",
   "mimetype": "text/x-python",
   "name": "python",
   "nbconvert_exporter": "python",
   "pygments_lexer": "ipython3",
   "version": "3.10.13"
  },
  "papermill": {
   "default_parameters": {},
   "duration": 3.817021,
   "end_time": "2024-03-13T00:03:32.319499",
   "environment_variables": {},
   "exception": null,
   "input_path": "__notebook__.ipynb",
   "output_path": "__notebook__.ipynb",
   "parameters": {},
   "start_time": "2024-03-13T00:03:28.502478",
   "version": "2.5.0"
  }
 },
 "nbformat": 4,
 "nbformat_minor": 5
}
